{
 "cells": [
  {
   "cell_type": "code",
   "execution_count": 2,
   "id": "9783a291-f4e7-4e55-a716-96591a425c76",
   "metadata": {},
   "outputs": [],
   "source": [
    "# ============================================================\n",
    "# MIS581 – Crypto Capstone Project\n",
    "# Python Module (JupyterLab)\n",
    "# ============================================================\n",
    "# Purpose:\n",
    "#   Analyze 65 cryptocurrencies across 10 narratives\n",
    "#   Evaluate ROI, Volatility, and Resilience metrics\n",
    "#   Generate cleaned exports for SQL, SAS, and Tableau integration\n",
    "# ============================================================\n",
    "\n",
    "import pandas as pd\n",
    "import numpy as np\n",
    "import matplotlib.pyplot as plt\n",
    "import seaborn as sns\n",
    "import os\n",
    "from scipy import stats\n",
    "import statsmodels.api as sm\n",
    "import statsmodels.formula.api as smf\n",
    "from statsmodels.stats.anova import anova_lm\n",
    "from statsmodels.stats.multicomp import pairwise_tukeyhsd\n"
   ]
  },
  {
   "cell_type": "code",
   "execution_count": 3,
   "id": "e461b5ab-57bb-4cf5-9adb-71f84326cdb3",
   "metadata": {},
   "outputs": [
    {
     "name": "stdout",
     "output_type": "stream",
     "text": [
      "✅ Data loaded successfully\n",
      "coin_summary shape: (65, 10)\n",
      "coin_resilience shape: (65, 5)\n"
     ]
    }
   ],
   "source": [
    "# Define your data paths\n",
    "base_path = r\"C:\\Users\\kevin\\OneDrive\\Desktop\\Crypto Narrative Analysis\"\n",
    "data_path = os.path.join(base_path, \"Data\", \"processed\")\n",
    "export_path = os.path.join(base_path, \"Analysis\", \"python_outputs\")\n",
    "\n",
    "# Load your cleaned datasets\n",
    "coin_summary = pd.read_csv(os.path.join(data_path, \"coin_summary.csv\"))\n",
    "coin_resilience = pd.read_csv(os.path.join(data_path, \"coin_resilience.csv\"))\n",
    "\n",
    "print(\"✅ Data loaded successfully\")\n",
    "print(\"coin_summary shape:\", coin_summary.shape)\n",
    "print(\"coin_resilience shape:\", coin_resilience.shape)\n"
   ]
  },
  {
   "cell_type": "code",
   "execution_count": 4,
   "id": "70b255bb-d4fe-4257-a48e-14f5c962252b",
   "metadata": {},
   "outputs": [
    {
     "name": "stdout",
     "output_type": "stream",
     "text": [
      "\n",
      "Sample rows from coin_summary:\n",
      "   coin        category         tier  mean_price  median_price  vol_daily  \\\n",
      "0  AAVE  DeFi Protocols        Major  166.290889    115.027238   0.059479   \n",
      "1   ADA   Blue Chip L1s    Blue Chip    0.494242      0.351605   0.065804   \n",
      "2  AERO       AI & Tech  Speculative    0.732064      0.711793   0.098671   \n",
      "\n",
      "   roi_1y_med  roi_3y_med  roi_5y_med  n_days  \n",
      "0    0.172785   -0.191758         NaN    1777  \n",
      "1    0.157075    2.669299     5.87246    2857  \n",
      "2    1.234474         NaN         NaN     699  \n",
      "\n",
      "Sample rows from coin_resilience:\n",
      "   coin        category         tier  max_drawdown  recovery_days\n",
      "0  AAVE  DeFi Protocols        Major     -0.921713            NaN\n",
      "1   ADA   Blue Chip L1s    Blue Chip     -0.979891          351.0\n",
      "2  AERO       AI & Tech  Speculative     -0.858859            NaN\n"
     ]
    }
   ],
   "source": [
    "print(\"\\nSample rows from coin_summary:\")\n",
    "print(coin_summary.head(3))\n",
    "\n",
    "print(\"\\nSample rows from coin_resilience:\")\n",
    "print(coin_resilience.head(3))\n"
   ]
  },
  {
   "cell_type": "code",
   "execution_count": 5,
   "id": "d6b79e41-8a0f-4057-b495-dc2408d00982",
   "metadata": {},
   "outputs": [
    {
     "name": "stdout",
     "output_type": "stream",
     "text": [
      "\n",
      "✅ coin_metrics built successfully\n",
      "   coin        category         tier  mean_price  median_price  vol_daily  \\\n",
      "0  AAVE  DeFi Protocols        Major  166.290889    115.027238   0.059479   \n",
      "1   ADA   Blue Chip L1s    Blue Chip    0.494242      0.351605   0.065804   \n",
      "2  AERO       AI & Tech  Speculative    0.732064      0.711793   0.098671   \n",
      "\n",
      "   roi_1y_med  roi_3y_med  roi_5y_med  n_days  max_drawdown  recovery_days  \n",
      "0    0.172785   -0.191758         NaN    1777     -0.921713            NaN  \n",
      "1    0.157075    2.669299     5.87246    2857     -0.979891          351.0  \n",
      "2    1.234474         NaN         NaN     699     -0.858859            NaN  \n"
     ]
    }
   ],
   "source": [
    "coin_metrics = pd.merge(\n",
    "    coin_summary,\n",
    "    coin_resilience[['coin', 'max_drawdown', 'recovery_days']],\n",
    "    on=\"coin\",\n",
    "    how=\"left\"\n",
    ")\n",
    "print(\"\\n✅ coin_metrics built successfully\")\n",
    "print(coin_metrics.head(3))\n"
   ]
  },
  {
   "cell_type": "code",
   "execution_count": 6,
   "id": "1fd52fe6-dbd2-4273-9b41-dc1374ccd9a2",
   "metadata": {},
   "outputs": [
    {
     "name": "stdout",
     "output_type": "stream",
     "text": [
      "=== ANOVA: ROI_1Y ~ Category ===\n",
      "               df      sum_sq   mean_sq         F  PR(>F)\n",
      "C(category)  10.0   74.548200  7.454820  2.474488  0.0166\n",
      "Residual     52.0  156.658914  3.012671       NaN     NaN\n",
      "\n",
      "--- Tukey HSD (Category) ---\n",
      "          Multiple Comparison of Means - Tukey HSD, FWER=0.05          \n",
      "=======================================================================\n",
      "      group1             group2       meandiff p-adj lower upper reject\n",
      "-----------------------------------------------------------------------\n",
      "         AI & Tech      Blue Chip L1s   0.1056   nan   nan   nan  False\n",
      "         AI & Tech     DeFi Protocols  -0.8592   nan   nan   nan  False\n",
      "         AI & Tech       Emerging L1s  -0.5923   nan   nan   nan  False\n",
      "         AI & Tech     Infrastructure      nan   nan   nan   nan  False\n",
      "         AI & Tech           Layer 2s  -0.7342   nan   nan   nan  False\n",
      "         AI & Tech   Meme & Community   2.6268   nan   nan   nan  False\n",
      "         AI & Tech Metaverse & Gaming  -0.8705   nan   nan   nan  False\n",
      "         AI & Tech       Next-Gen L1s   0.4208   nan   nan   nan  False\n",
      "         AI & Tech     Payments & RWA   -0.553   nan   nan   nan  False\n",
      "         AI & Tech        Stablecoins      nan   nan   nan   nan  False\n",
      "     Blue Chip L1s     DeFi Protocols  -0.9648   nan   nan   nan  False\n",
      "     Blue Chip L1s       Emerging L1s  -0.6979   nan   nan   nan  False\n",
      "     Blue Chip L1s     Infrastructure      nan   nan   nan   nan  False\n",
      "     Blue Chip L1s           Layer 2s  -0.8399   nan   nan   nan  False\n",
      "     Blue Chip L1s   Meme & Community   2.5211   nan   nan   nan  False\n",
      "     Blue Chip L1s Metaverse & Gaming  -0.9761   nan   nan   nan  False\n",
      "     Blue Chip L1s       Next-Gen L1s   0.3151   nan   nan   nan  False\n",
      "     Blue Chip L1s     Payments & RWA  -0.6586   nan   nan   nan  False\n",
      "     Blue Chip L1s        Stablecoins      nan   nan   nan   nan  False\n",
      "    DeFi Protocols       Emerging L1s   0.2669   nan   nan   nan  False\n",
      "    DeFi Protocols     Infrastructure      nan   nan   nan   nan  False\n",
      "    DeFi Protocols           Layer 2s    0.125   nan   nan   nan  False\n",
      "    DeFi Protocols   Meme & Community    3.486   nan   nan   nan  False\n",
      "    DeFi Protocols Metaverse & Gaming  -0.0113   nan   nan   nan  False\n",
      "    DeFi Protocols       Next-Gen L1s     1.28   nan   nan   nan  False\n",
      "    DeFi Protocols     Payments & RWA   0.3062   nan   nan   nan  False\n",
      "    DeFi Protocols        Stablecoins      nan   nan   nan   nan  False\n",
      "      Emerging L1s     Infrastructure      nan   nan   nan   nan  False\n",
      "      Emerging L1s           Layer 2s   -0.142   nan   nan   nan  False\n",
      "      Emerging L1s   Meme & Community    3.219   nan   nan   nan  False\n",
      "      Emerging L1s Metaverse & Gaming  -0.2782   nan   nan   nan  False\n",
      "      Emerging L1s       Next-Gen L1s    1.013   nan   nan   nan  False\n",
      "      Emerging L1s     Payments & RWA   0.0393   nan   nan   nan  False\n",
      "      Emerging L1s        Stablecoins      nan   nan   nan   nan  False\n",
      "    Infrastructure           Layer 2s      nan   nan   nan   nan  False\n",
      "    Infrastructure   Meme & Community      nan   nan   nan   nan  False\n",
      "    Infrastructure Metaverse & Gaming      nan   nan   nan   nan  False\n",
      "    Infrastructure       Next-Gen L1s      nan   nan   nan   nan  False\n",
      "    Infrastructure     Payments & RWA      nan   nan   nan   nan  False\n",
      "    Infrastructure        Stablecoins      nan   nan   nan   nan  False\n",
      "          Layer 2s   Meme & Community    3.361   nan   nan   nan  False\n",
      "          Layer 2s Metaverse & Gaming  -0.1362   nan   nan   nan  False\n",
      "          Layer 2s       Next-Gen L1s    1.155   nan   nan   nan  False\n",
      "          Layer 2s     Payments & RWA   0.1813   nan   nan   nan  False\n",
      "          Layer 2s        Stablecoins      nan   nan   nan   nan  False\n",
      "  Meme & Community Metaverse & Gaming  -3.4972   nan   nan   nan  False\n",
      "  Meme & Community       Next-Gen L1s   -2.206   nan   nan   nan  False\n",
      "  Meme & Community     Payments & RWA  -3.1797   nan   nan   nan  False\n",
      "  Meme & Community        Stablecoins      nan   nan   nan   nan  False\n",
      "Metaverse & Gaming       Next-Gen L1s   1.2912   nan   nan   nan  False\n",
      "Metaverse & Gaming     Payments & RWA   0.3175   nan   nan   nan  False\n",
      "Metaverse & Gaming        Stablecoins      nan   nan   nan   nan  False\n",
      "      Next-Gen L1s     Payments & RWA  -0.9737   nan   nan   nan  False\n",
      "      Next-Gen L1s        Stablecoins      nan   nan   nan   nan  False\n",
      "    Payments & RWA        Stablecoins      nan   nan   nan   nan  False\n",
      "-----------------------------------------------------------------------\n"
     ]
    }
   ],
   "source": [
    "# ROI by Category\n",
    "anova_category = smf.ols('roi_1y_med ~ C(category)', data=coin_summary).fit()\n",
    "anova_results_category = anova_lm(anova_category)\n",
    "print(\"=== ANOVA: ROI_1Y ~ Category ===\")\n",
    "print(anova_results_category)\n",
    "\n",
    "# Tukey HSD\n",
    "tukey_category = pairwise_tukeyhsd(\n",
    "    coin_summary['roi_1y_med'],\n",
    "    coin_summary['category'],\n",
    "    alpha=0.05\n",
    ")\n",
    "print(\"\\n--- Tukey HSD (Category) ---\")\n",
    "print(tukey_category)\n"
   ]
  },
  {
   "cell_type": "code",
   "execution_count": 7,
   "id": "93756e08-52e7-4d3b-a7ea-4d94c9ff90d7",
   "metadata": {},
   "outputs": [
    {
     "name": "stdout",
     "output_type": "stream",
     "text": [
      "\n",
      "=== ANOVA: ROI_1Y ~ Tier ===\n",
      "            df      sum_sq   mean_sq         F    PR(>F)\n",
      "C(tier)    2.0   13.986774  6.993387  1.931694  0.153808\n",
      "Residual  60.0  217.220340  3.620339       NaN       NaN\n",
      "\n",
      "--- Tukey HSD (Tier) ---\n",
      "  Multiple Comparison of Means - Tukey HSD, FWER=0.05  \n",
      "=======================================================\n",
      "  group1     group2   meandiff p-adj lower upper reject\n",
      "-------------------------------------------------------\n",
      "Blue Chip       Major      nan   nan   nan   nan  False\n",
      "Blue Chip Speculative      nan   nan   nan   nan  False\n",
      "    Major Speculative      nan   nan   nan   nan  False\n",
      "-------------------------------------------------------\n"
     ]
    }
   ],
   "source": [
    "anova_tier = smf.ols('roi_1y_med ~ C(tier)', data=coin_summary).fit()\n",
    "anova_results_tier = anova_lm(anova_tier)\n",
    "print(\"\\n=== ANOVA: ROI_1Y ~ Tier ===\")\n",
    "print(anova_results_tier)\n",
    "\n",
    "tukey_tier = pairwise_tukeyhsd(\n",
    "    coin_summary['roi_1y_med'],\n",
    "    coin_summary['tier'],\n",
    "    alpha=0.05\n",
    ")\n",
    "print(\"\\n--- Tukey HSD (Tier) ---\")\n",
    "print(tukey_tier)\n"
   ]
  },
  {
   "cell_type": "code",
   "execution_count": 8,
   "id": "7a7d3caa-3012-41d9-b374-944ce76533ca",
   "metadata": {},
   "outputs": [
    {
     "name": "stdout",
     "output_type": "stream",
     "text": [
      "\n",
      "=== Regression: ROI_1Y ~ vol_daily ===\n",
      "                            OLS Regression Results                            \n",
      "==============================================================================\n",
      "Dep. Variable:             roi_1y_med   R-squared:                       0.013\n",
      "Model:                            OLS   Adj. R-squared:                 -0.003\n",
      "Method:                 Least Squares   F-statistic:                    0.7891\n",
      "Date:                Sat, 04 Oct 2025   Prob (F-statistic):              0.378\n",
      "Time:                        03:16:00   Log-Likelihood:                -129.94\n",
      "No. Observations:                  63   AIC:                             263.9\n",
      "Df Residuals:                      61   BIC:                             268.2\n",
      "Df Model:                           1                                         \n",
      "Covariance Type:            nonrobust                                         \n",
      "==============================================================================\n",
      "                 coef    std err          t      P>|t|      [0.025      0.975]\n",
      "------------------------------------------------------------------------------\n",
      "Intercept      0.4584      0.294      1.560      0.124      -0.129       1.046\n",
      "vol_daily      1.3994      1.575      0.888      0.378      -1.751       4.549\n",
      "==============================================================================\n",
      "Omnibus:                       78.330   Durbin-Watson:                   2.189\n",
      "Prob(Omnibus):                  0.000   Jarque-Bera (JB):              705.390\n",
      "Skew:                           3.713   Prob(JB):                    6.71e-154\n",
      "Kurtosis:                      17.614   Cond. No.                         6.54\n",
      "==============================================================================\n",
      "\n",
      "Notes:\n",
      "[1] Standard Errors assume that the covariance matrix of the errors is correctly specified.\n",
      "\n",
      "=== Regression: ROI_1Y ~ max_drawdown + recovery_days ===\n",
      "                            OLS Regression Results                            \n",
      "==============================================================================\n",
      "Dep. Variable:             roi_1y_med   R-squared:                       0.221\n",
      "Model:                            OLS   Adj. R-squared:                  0.138\n",
      "Method:                 Least Squares   F-statistic:                     2.688\n",
      "Date:                Sat, 04 Oct 2025   Prob (F-statistic):             0.0938\n",
      "Time:                        03:16:00   Log-Likelihood:                -50.908\n",
      "No. Observations:                  22   AIC:                             107.8\n",
      "Df Residuals:                      19   BIC:                             111.1\n",
      "Df Model:                           2                                         \n",
      "Covariance Type:            nonrobust                                         \n",
      "=================================================================================\n",
      "                    coef    std err          t      P>|t|      [0.025      0.975]\n",
      "---------------------------------------------------------------------------------\n",
      "Intercept         0.3658      2.201      0.166      0.870      -4.242       4.973\n",
      "max_drawdown     -3.0563      2.492     -1.226      0.235      -8.272       2.160\n",
      "recovery_days    -0.0021      0.001     -2.091      0.050      -0.004    1.58e-06\n",
      "==============================================================================\n",
      "Omnibus:                       15.538   Durbin-Watson:                   2.334\n",
      "Prob(Omnibus):                  0.000   Jarque-Bera (JB):               15.134\n",
      "Skew:                           1.631   Prob(JB):                     0.000517\n",
      "Kurtosis:                       5.424   Cond. No.                     4.66e+03\n",
      "==============================================================================\n",
      "\n",
      "Notes:\n",
      "[1] Standard Errors assume that the covariance matrix of the errors is correctly specified.\n",
      "[2] The condition number is large, 4.66e+03. This might indicate that there are\n",
      "strong multicollinearity or other numerical problems.\n"
     ]
    }
   ],
   "source": [
    "# ROI vs Volatility\n",
    "print(\"\\n=== Regression: ROI_1Y ~ vol_daily ===\")\n",
    "reg1 = smf.ols('roi_1y_med ~ vol_daily', data=coin_summary).fit()\n",
    "print(reg1.summary())\n",
    "\n",
    "# ROI vs Resilience Metrics\n",
    "print(\"\\n=== Regression: ROI_1Y ~ max_drawdown + recovery_days ===\")\n",
    "res_reg = smf.ols('roi_1y_med ~ max_drawdown + recovery_days', data=coin_metrics).fit()\n",
    "print(res_reg.summary())\n"
   ]
  },
  {
   "cell_type": "code",
   "execution_count": 9,
   "id": "c34f73b5-14fc-4a75-b593-fb71a73ec51d",
   "metadata": {},
   "outputs": [
    {
     "name": "stdout",
     "output_type": "stream",
     "text": [
      "\n",
      "=== Tier Profile ===\n",
      "          tier  n_coins  mean_roi_1y  std_roi_1y  mean_vol   std_vol  \\\n",
      "0    Blue Chip        5     0.746068    0.517932  0.140212  0.188372   \n",
      "1        Major       33     0.166290    1.229210  0.086497  0.144241   \n",
      "2  Speculative       25     1.154032    2.644150  0.112591  0.165139   \n",
      "\n",
      "   mean_drawdown  std_drawdown  mean_recovery  std_recovery  \n",
      "0      -0.913243      0.067812        523.000    335.216348  \n",
      "1      -0.741303      0.343991        580.400    606.951435  \n",
      "2      -0.882697      0.194752        546.375    678.625909  \n"
     ]
    }
   ],
   "source": [
    "tier_profile = (\n",
    "    coin_metrics\n",
    "    .groupby(\"tier\")\n",
    "    .agg(\n",
    "        n_coins=('roi_1y_med', 'count'),\n",
    "        mean_roi_1y=('roi_1y_med', 'mean'),\n",
    "        std_roi_1y=('roi_1y_med', 'std'),\n",
    "        mean_vol=('vol_daily', 'mean'),\n",
    "        std_vol=('vol_daily', 'std'),\n",
    "        mean_drawdown=('max_drawdown', 'mean'),\n",
    "        std_drawdown=('max_drawdown', 'std'),\n",
    "        mean_recovery=('recovery_days', 'mean'),\n",
    "        std_recovery=('recovery_days', 'std')\n",
    "    )\n",
    "    .reset_index()\n",
    ")\n",
    "print(\"\\n=== Tier Profile ===\")\n",
    "print(tier_profile)\n"
   ]
  },
  {
   "cell_type": "code",
   "execution_count": 10,
   "id": "7cb2abad-4d92-4532-aaea-ef8867f261d2",
   "metadata": {},
   "outputs": [
    {
     "name": "stdout",
     "output_type": "stream",
     "text": [
      "\n",
      "=== Category Performance ===\n",
      "              category  n_coins  avg_roi_1y  std_roi_1y   avg_vol  \\\n",
      "0            AI & Tech        6    0.640439    0.828121  0.087994   \n",
      "1        Blue Chip L1s        5    0.746068    0.517932  0.140212   \n",
      "2       DeFi Protocols        6   -0.218771    0.226308  0.069154   \n",
      "3         Emerging L1s        6    0.048154    0.293069  0.062282   \n",
      "4       Infrastructure        6    0.335358    0.391693  0.056277   \n",
      "5             Layer 2s        7   -0.093809    0.622038  0.059448   \n",
      "6     Meme & Community        8    3.267193    4.413666  0.343979   \n",
      "7   Metaverse & Gaming        6   -0.230032    0.186406  0.080354   \n",
      "8         Next-Gen L1s        5    1.061189    1.731237  0.068337   \n",
      "9       Payments & RWA        5    0.087453    0.051502  0.038691   \n",
      "10         Stablecoins        5   -0.000314    0.000252  0.005761   \n",
      "\n",
      "    avg_drawdown  avg_recovery  \n",
      "0      -0.959093    809.333333  \n",
      "1      -0.913243    523.000000  \n",
      "2      -0.907731           NaN  \n",
      "3      -0.915907   1727.000000  \n",
      "4      -0.757067    517.000000  \n",
      "5      -0.870615    426.000000  \n",
      "6      -0.933694    184.500000  \n",
      "7      -0.980264           NaN  \n",
      "8      -0.858737     68.000000  \n",
      "9      -0.472182    880.000000  \n",
      "10     -0.163120    631.000000  \n"
     ]
    }
   ],
   "source": [
    "category_perf = (\n",
    "    coin_metrics\n",
    "    .groupby(\"category\")\n",
    "    .agg(\n",
    "        n_coins=(\"coin\", \"count\"),\n",
    "        avg_roi_1y=(\"roi_1y_med\", \"mean\"),\n",
    "        std_roi_1y=(\"roi_1y_med\", \"std\"),\n",
    "        avg_vol=(\"vol_daily\", \"mean\"),\n",
    "        avg_drawdown=(\"max_drawdown\", \"mean\"),\n",
    "        avg_recovery=(\"recovery_days\", \"mean\")\n",
    "    )\n",
    "    .reset_index()\n",
    ")\n",
    "print(\"\\n=== Category Performance ===\")\n",
    "print(category_perf)\n"
   ]
  },
  {
   "cell_type": "code",
   "execution_count": 11,
   "id": "041c6035-dee9-442a-b30f-6d36ce9a7443",
   "metadata": {},
   "outputs": [
    {
     "name": "stdout",
     "output_type": "stream",
     "text": [
      "\n",
      "✅ Exported all Python outputs to:\n",
      "C:\\Users\\kevin\\OneDrive\\Desktop\\Crypto Narrative Analysis\\Analysis\\python_outputs\n"
     ]
    }
   ],
   "source": [
    "os.makedirs(export_path, exist_ok=True)\n",
    "\n",
    "coin_metrics.to_csv(os.path.join(export_path, \"py_coin_metrics.csv\"), index=False)\n",
    "tier_profile.to_csv(os.path.join(export_path, \"py_tier_profile.csv\"), index=False)\n",
    "category_perf.to_csv(os.path.join(export_path, \"py_category_performance.csv\"), index=False)\n",
    "\n",
    "print(f\"\\n✅ Exported all Python outputs to:\\n{export_path}\")\n"
   ]
  },
  {
   "cell_type": "code",
   "execution_count": 12,
   "id": "33a9921c-1197-41cb-a591-6288481ddfd3",
   "metadata": {
    "scrolled": true
   },
   "outputs": [
    {
     "name": "stderr",
     "output_type": "stream",
     "text": [
      "C:\\Users\\kevin\\AppData\\Local\\Temp\\ipykernel_26856\\291884378.py:2: FutureWarning: \n",
      "\n",
      "Passing `palette` without assigning `hue` is deprecated and will be removed in v0.14.0. Assign the `x` variable to `hue` and set `legend=False` for the same effect.\n",
      "\n",
      "  sns.barplot(data=category_perf, x='category', y='avg_roi_1y', palette='coolwarm')\n"
     ]
    },
    {
     "data": {
      "image/png": "[encoded data removed]",
      "text/plain": [
       "<Figure size 800x500 with 1 Axes>"
      ]
     },
     "metadata": {},
     "output_type": "display_data"
    }
   ],
   "source": [
    "plt.figure(figsize=(8,5))\n",
    "sns.barplot(data=category_perf, x='category', y='avg_roi_1y', palette='coolwarm')\n",
    "plt.xticks(rotation=45, ha='right')\n",
    "plt.title('Average 1-Year ROI by Category')\n",
    "plt.tight_layout()\n",
    "plt.savefig(os.path.join(export_path, \"plots\", \"ROI_by_Category.png\"))\n",
    "plt.show()\n"
   ]
  },
  {
   "cell_type": "code",
   "execution_count": null,
   "id": "f48f6d82-c58c-4696-af85-1a262f60f442",
   "metadata": {},
   "outputs": [],
   "source": []
  },
  {
   "cell_type": "code",
   "execution_count": null,
   "id": "c496704b-92ca-4d20-b7fc-705be2b0ee2f",
   "metadata": {},
   "outputs": [],
   "source": []
  }
 ],
 "metadata": {
  "kernelspec": {
   "display_name": "Python [conda env:anaconda3]",
   "language": "python",
   "name": "conda-env-anaconda3-py"
  },
  "language_info": {
   "codemirror_mode": {
    "name": "ipython",
    "version": 3
   },
   "file_extension": ".py",
   "mimetype": "text/x-python",
   "name": "python",
   "nbconvert_exporter": "python",
   "pygments_lexer": "ipython3",
   "version": "3.12.7"
  }
 },
 "nbformat": 4,
 "nbformat_minor": 5
}
